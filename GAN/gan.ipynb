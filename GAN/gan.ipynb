{
 "cells": [
  {
   "cell_type": "code",
   "execution_count": 44,
   "metadata": {},
   "outputs": [],
   "source": [
    "import pandas as pd\n",
    "import numpy as np\n",
    "import matplotlib.pyplot as plt\n",
    "import seaborn as sns\n",
    "from sklearn.model_selection import train_test_split\n",
    "from sklearn.linear_model import LinearRegression\n",
    "from tensorflow.keras.datasets import mnist"
   ]
  },
  {
   "cell_type": "code",
   "execution_count": 45,
   "metadata": {},
   "outputs": [],
   "source": [
    "(x_train, y_train), (x_test, y_test) = mnist.load_data()"
   ]
  },
  {
   "cell_type": "code",
   "execution_count": 46,
   "metadata": {},
   "outputs": [
    {
     "data": {
      "text/plain": [
       "<matplotlib.image.AxesImage at 0x1c3b077eaf0>"
      ]
     },
     "execution_count": 46,
     "metadata": {},
     "output_type": "execute_result"
    },
    {
     "data": {
      "image/png": "[encoded data removed]",
      "text/plain": [
       "<Figure size 640x480 with 1 Axes>"
      ]
     },
     "metadata": {},
     "output_type": "display_data"
    }
   ],
   "source": [
    "plt.imshow(x_train[0], cmap='gray')"
   ]
  },
  {
   "cell_type": "code",
   "execution_count": 47,
   "metadata": {},
   "outputs": [
    {
     "data": {
      "text/plain": [
       "array([ True, False, False, ...,  True, False, False])"
      ]
     },
     "execution_count": 47,
     "metadata": {},
     "output_type": "execute_result"
    }
   ],
   "source": [
    "y_train == 5"
   ]
  },
  {
   "cell_type": "code",
   "execution_count": 48,
   "metadata": {},
   "outputs": [],
   "source": [
    "only_fives = x_train[y_train == 5]"
   ]
  },
  {
   "cell_type": "code",
   "execution_count": 49,
   "metadata": {},
   "outputs": [],
   "source": [
    "import tensorflow as tf\n",
    "from tensorflow.keras.layers import Dense, Reshape, Flatten, Conv2D, Conv2DTranspose\n",
    "from tensorflow.keras.models import Sequential"
   ]
  },
  {
   "cell_type": "code",
   "execution_count": 50,
   "metadata": {},
   "outputs": [],
   "source": [
    "discriminator = Sequential()\n",
    "discriminator.add(Flatten(input_shape=[28, 28]))  # Achata a imagem de 28x28 para um vetor 1D\n",
    "discriminator.add(Dense(150, activation='relu'))  # Camada oculta com 150 neurônios\n",
    "discriminator.add(Dense(100, activation='relu'))  # Outra camada oculta\n",
    "discriminator.add(Dense(1, activation='sigmoid')) # Saída: 0 (falsa) ou 1 (real)\n",
    "discriminator.compile(loss='binary_crossentropy', optimizer='adam')"
   ]
  },
  {
   "cell_type": "code",
   "execution_count": 51,
   "metadata": {},
   "outputs": [],
   "source": [
    "codings_size = 100  # Dimensão do ruído de entrada\n",
    "\n",
    "generator = Sequential()\n",
    "generator.add(Dense(100, activation = 'relu', input_shape=[codings_size]))  # Entrada: ruído aleatório\n",
    "generator.add(Dense(150, activation = 'relu'))\n",
    "generator.add(Dense(784, activation = 'relu'))  # Saída: 784 pixels (28x28)\n",
    "generator.add(Reshape([28,28]))  # Converte a saída de volta para formato 28x28\n"
   ]
  },
  {
   "cell_type": "code",
   "execution_count": 52,
   "metadata": {},
   "outputs": [],
   "source": [
    "GAN = Sequential([generator, discriminator]) "
   ]
  },
  {
   "cell_type": "code",
   "execution_count": 53,
   "metadata": {},
   "outputs": [],
   "source": [
    "discriminator.trainable = False  # Congela o discriminador para treinar apenas o gerador"
   ]
  },
  {
   "cell_type": "code",
   "execution_count": 54,
   "metadata": {},
   "outputs": [],
   "source": [
    "GAN.compile(loss='binary_crossentropy', optimizer='adam')"
   ]
  },
  {
   "cell_type": "code",
   "execution_count": 55,
   "metadata": {},
   "outputs": [],
   "source": [
    "batch_size = 32"
   ]
  },
  {
   "cell_type": "code",
   "execution_count": 56,
   "metadata": {},
   "outputs": [],
   "source": [
    "my_data = only_fives\n",
    "dataset = tf.data.Dataset.from_tensor_slices(my_data).shuffle(buffer_size=1000)"
   ]
  },
  {
   "cell_type": "code",
   "execution_count": 57,
   "metadata": {},
   "outputs": [],
   "source": [
    "dataset = dataset.batch(batch_size, drop_remainder=True).prefetch(1)"
   ]
  },
  {
   "cell_type": "code",
   "execution_count": 58,
   "metadata": {},
   "outputs": [],
   "source": [
    "epochs = 150"
   ]
  },
  {
   "cell_type": "code",
   "execution_count": 59,
   "metadata": {},
   "outputs": [
    {
     "data": {
      "text/html": [
       "<pre style=\"white-space:pre;overflow-x:auto;line-height:normal;font-family:Menlo,'DejaVu Sans Mono',consolas,'Courier New',monospace\"><span style=\"font-weight: bold\">Model: \"sequential_7\"</span>\n",
       "</pre>\n"
      ],
      "text/plain": [
       "\u001b[1mModel: \"sequential_7\"\u001b[0m\n"
      ]
     },
     "metadata": {},
     "output_type": "display_data"
    },
    {
     "data": {
      "text/html": [
       "<pre style=\"white-space:pre;overflow-x:auto;line-height:normal;font-family:Menlo,'DejaVu Sans Mono',consolas,'Courier New',monospace\">┏━━━━━━━━━━━━━━━━━━━━━━━━━━━━━━━━━┳━━━━━━━━━━━━━━━━━━━━━━━━┳━━━━━━━━━━━━━━━┓\n",
       "┃<span style=\"font-weight: bold\"> Layer (type)                    </span>┃<span style=\"font-weight: bold\"> Output Shape           </span>┃<span style=\"font-weight: bold\">       Param # </span>┃\n",
       "┡━━━━━━━━━━━━━━━━━━━━━━━━━━━━━━━━━╇━━━━━━━━━━━━━━━━━━━━━━━━╇━━━━━━━━━━━━━━━┩\n",
       "│ dense_15 (<span style=\"color: #0087ff; text-decoration-color: #0087ff\">Dense</span>)                │ (<span style=\"color: #00d7ff; text-decoration-color: #00d7ff\">None</span>, <span style=\"color: #00af00; text-decoration-color: #00af00\">100</span>)            │        <span style=\"color: #00af00; text-decoration-color: #00af00\">10,100</span> │\n",
       "├─────────────────────────────────┼────────────────────────┼───────────────┤\n",
       "│ dense_16 (<span style=\"color: #0087ff; text-decoration-color: #0087ff\">Dense</span>)                │ (<span style=\"color: #00d7ff; text-decoration-color: #00d7ff\">None</span>, <span style=\"color: #00af00; text-decoration-color: #00af00\">150</span>)            │        <span style=\"color: #00af00; text-decoration-color: #00af00\">15,150</span> │\n",
       "├─────────────────────────────────┼────────────────────────┼───────────────┤\n",
       "│ dense_17 (<span style=\"color: #0087ff; text-decoration-color: #0087ff\">Dense</span>)                │ (<span style=\"color: #00d7ff; text-decoration-color: #00d7ff\">None</span>, <span style=\"color: #00af00; text-decoration-color: #00af00\">784</span>)            │       <span style=\"color: #00af00; text-decoration-color: #00af00\">118,384</span> │\n",
       "├─────────────────────────────────┼────────────────────────┼───────────────┤\n",
       "│ reshape_2 (<span style=\"color: #0087ff; text-decoration-color: #0087ff\">Reshape</span>)             │ (<span style=\"color: #00d7ff; text-decoration-color: #00d7ff\">None</span>, <span style=\"color: #00af00; text-decoration-color: #00af00\">28</span>, <span style=\"color: #00af00; text-decoration-color: #00af00\">28</span>)         │             <span style=\"color: #00af00; text-decoration-color: #00af00\">0</span> │\n",
       "└─────────────────────────────────┴────────────────────────┴───────────────┘\n",
       "</pre>\n"
      ],
      "text/plain": [
       "┏━━━━━━━━━━━━━━━━━━━━━━━━━━━━━━━━━┳━━━━━━━━━━━━━━━━━━━━━━━━┳━━━━━━━━━━━━━━━┓\n",
       "┃\u001b[1m \u001b[0m\u001b[1mLayer (type)                   \u001b[0m\u001b[1m \u001b[0m┃\u001b[1m \u001b[0m\u001b[1mOutput Shape          \u001b[0m\u001b[1m \u001b[0m┃\u001b[1m \u001b[0m\u001b[1m      Param #\u001b[0m\u001b[1m \u001b[0m┃\n",
       "┡━━━━━━━━━━━━━━━━━━━━━━━━━━━━━━━━━╇━━━━━━━━━━━━━━━━━━━━━━━━╇━━━━━━━━━━━━━━━┩\n",
       "│ dense_15 (\u001b[38;5;33mDense\u001b[0m)                │ (\u001b[38;5;45mNone\u001b[0m, \u001b[38;5;34m100\u001b[0m)            │        \u001b[38;5;34m10,100\u001b[0m │\n",
       "├─────────────────────────────────┼────────────────────────┼───────────────┤\n",
       "│ dense_16 (\u001b[38;5;33mDense\u001b[0m)                │ (\u001b[38;5;45mNone\u001b[0m, \u001b[38;5;34m150\u001b[0m)            │        \u001b[38;5;34m15,150\u001b[0m │\n",
       "├─────────────────────────────────┼────────────────────────┼───────────────┤\n",
       "│ dense_17 (\u001b[38;5;33mDense\u001b[0m)                │ (\u001b[38;5;45mNone\u001b[0m, \u001b[38;5;34m784\u001b[0m)            │       \u001b[38;5;34m118,384\u001b[0m │\n",
       "├─────────────────────────────────┼────────────────────────┼───────────────┤\n",
       "│ reshape_2 (\u001b[38;5;33mReshape\u001b[0m)             │ (\u001b[38;5;45mNone\u001b[0m, \u001b[38;5;34m28\u001b[0m, \u001b[38;5;34m28\u001b[0m)         │             \u001b[38;5;34m0\u001b[0m │\n",
       "└─────────────────────────────────┴────────────────────────┴───────────────┘\n"
      ]
     },
     "metadata": {},
     "output_type": "display_data"
    },
    {
     "data": {
      "text/html": [
       "<pre style=\"white-space:pre;overflow-x:auto;line-height:normal;font-family:Menlo,'DejaVu Sans Mono',consolas,'Courier New',monospace\"><span style=\"font-weight: bold\"> Total params: </span><span style=\"color: #00af00; text-decoration-color: #00af00\">143,634</span> (561.07 KB)\n",
       "</pre>\n"
      ],
      "text/plain": [
       "\u001b[1m Total params: \u001b[0m\u001b[38;5;34m143,634\u001b[0m (561.07 KB)\n"
      ]
     },
     "metadata": {},
     "output_type": "display_data"
    },
    {
     "data": {
      "text/html": [
       "<pre style=\"white-space:pre;overflow-x:auto;line-height:normal;font-family:Menlo,'DejaVu Sans Mono',consolas,'Courier New',monospace\"><span style=\"font-weight: bold\"> Trainable params: </span><span style=\"color: #00af00; text-decoration-color: #00af00\">143,634</span> (561.07 KB)\n",
       "</pre>\n"
      ],
      "text/plain": [
       "\u001b[1m Trainable params: \u001b[0m\u001b[38;5;34m143,634\u001b[0m (561.07 KB)\n"
      ]
     },
     "metadata": {},
     "output_type": "display_data"
    },
    {
     "data": {
      "text/html": [
       "<pre style=\"white-space:pre;overflow-x:auto;line-height:normal;font-family:Menlo,'DejaVu Sans Mono',consolas,'Courier New',monospace\"><span style=\"font-weight: bold\"> Non-trainable params: </span><span style=\"color: #00af00; text-decoration-color: #00af00\">0</span> (0.00 B)\n",
       "</pre>\n"
      ],
      "text/plain": [
       "\u001b[1m Non-trainable params: \u001b[0m\u001b[38;5;34m0\u001b[0m (0.00 B)\n"
      ]
     },
     "metadata": {},
     "output_type": "display_data"
    }
   ],
   "source": [
    "GAN.layers[0].summary()"
   ]
  },
  {
   "cell_type": "code",
   "execution_count": 60,
   "metadata": {},
   "outputs": [
    {
     "name": "stdout",
     "output_type": "stream",
     "text": [
      "Currently on Epoch 1\n",
      "\tCurrently on batch number 100 of 169\n",
      "Currently on Epoch 2\n",
      "\tCurrently on batch number 100 of 169\n",
      "Currently on Epoch 3\n",
      "\tCurrently on batch number 100 of 169\n",
      "Currently on Epoch 4\n",
      "\tCurrently on batch number 100 of 169\n",
      "Currently on Epoch 5\n",
      "\tCurrently on batch number 100 of 169\n",
      "Currently on Epoch 6\n",
      "\tCurrently on batch number 100 of 169\n",
      "Currently on Epoch 7\n",
      "\tCurrently on batch number 100 of 169\n",
      "Currently on Epoch 8\n",
      "\tCurrently on batch number 100 of 169\n",
      "Currently on Epoch 9\n",
      "\tCurrently on batch number 100 of 169\n",
      "Currently on Epoch 10\n",
      "\tCurrently on batch number 100 of 169\n",
      "Currently on Epoch 11\n",
      "\tCurrently on batch number 100 of 169\n",
      "Currently on Epoch 12\n",
      "\tCurrently on batch number 100 of 169\n",
      "Currently on Epoch 13\n",
      "\tCurrently on batch number 100 of 169\n",
      "Currently on Epoch 14\n",
      "\tCurrently on batch number 100 of 169\n",
      "Currently on Epoch 15\n",
      "\tCurrently on batch number 100 of 169\n",
      "Currently on Epoch 16\n",
      "\tCurrently on batch number 100 of 169\n",
      "Currently on Epoch 17\n",
      "\tCurrently on batch number 100 of 169\n",
      "Currently on Epoch 18\n",
      "\tCurrently on batch number 100 of 169\n",
      "Currently on Epoch 19\n",
      "\tCurrently on batch number 100 of 169\n",
      "Currently on Epoch 20\n",
      "\tCurrently on batch number 100 of 169\n",
      "Currently on Epoch 21\n",
      "\tCurrently on batch number 100 of 169\n",
      "Currently on Epoch 22\n",
      "\tCurrently on batch number 100 of 169\n",
      "Currently on Epoch 23\n",
      "\tCurrently on batch number 100 of 169\n",
      "Currently on Epoch 24\n",
      "\tCurrently on batch number 100 of 169\n",
      "Currently on Epoch 25\n",
      "\tCurrently on batch number 100 of 169\n",
      "Currently on Epoch 26\n",
      "\tCurrently on batch number 100 of 169\n",
      "Currently on Epoch 27\n",
      "\tCurrently on batch number 100 of 169\n",
      "Currently on Epoch 28\n",
      "\tCurrently on batch number 100 of 169\n",
      "Currently on Epoch 29\n",
      "\tCurrently on batch number 100 of 169\n",
      "Currently on Epoch 30\n",
      "\tCurrently on batch number 100 of 169\n",
      "Currently on Epoch 31\n",
      "\tCurrently on batch number 100 of 169\n",
      "Currently on Epoch 32\n",
      "\tCurrently on batch number 100 of 169\n",
      "Currently on Epoch 33\n",
      "\tCurrently on batch number 100 of 169\n",
      "Currently on Epoch 34\n",
      "\tCurrently on batch number 100 of 169\n",
      "Currently on Epoch 35\n",
      "\tCurrently on batch number 100 of 169\n",
      "Currently on Epoch 36\n",
      "\tCurrently on batch number 100 of 169\n",
      "Currently on Epoch 37\n",
      "\tCurrently on batch number 100 of 169\n",
      "Currently on Epoch 38\n",
      "\tCurrently on batch number 100 of 169\n",
      "Currently on Epoch 39\n",
      "\tCurrently on batch number 100 of 169\n",
      "Currently on Epoch 40\n",
      "\tCurrently on batch number 100 of 169\n",
      "Currently on Epoch 41\n",
      "\tCurrently on batch number 100 of 169\n",
      "Currently on Epoch 42\n",
      "\tCurrently on batch number 100 of 169\n",
      "Currently on Epoch 43\n",
      "\tCurrently on batch number 100 of 169\n",
      "Currently on Epoch 44\n",
      "\tCurrently on batch number 100 of 169\n",
      "Currently on Epoch 45\n",
      "\tCurrently on batch number 100 of 169\n",
      "Currently on Epoch 46\n",
      "\tCurrently on batch number 100 of 169\n",
      "Currently on Epoch 47\n",
      "\tCurrently on batch number 100 of 169\n",
      "Currently on Epoch 48\n",
      "\tCurrently on batch number 100 of 169\n",
      "Currently on Epoch 49\n",
      "\tCurrently on batch number 100 of 169\n",
      "Currently on Epoch 50\n",
      "\tCurrently on batch number 100 of 169\n",
      "Currently on Epoch 51\n",
      "\tCurrently on batch number 100 of 169\n",
      "Currently on Epoch 52\n",
      "\tCurrently on batch number 100 of 169\n",
      "Currently on Epoch 53\n",
      "\tCurrently on batch number 100 of 169\n",
      "Currently on Epoch 54\n",
      "\tCurrently on batch number 100 of 169\n",
      "Currently on Epoch 55\n",
      "\tCurrently on batch number 100 of 169\n",
      "Currently on Epoch 56\n",
      "\tCurrently on batch number 100 of 169\n",
      "Currently on Epoch 57\n",
      "\tCurrently on batch number 100 of 169\n",
      "Currently on Epoch 58\n",
      "\tCurrently on batch number 100 of 169\n",
      "Currently on Epoch 59\n",
      "\tCurrently on batch number 100 of 169\n",
      "Currently on Epoch 60\n",
      "\tCurrently on batch number 100 of 169\n",
      "Currently on Epoch 61\n",
      "\tCurrently on batch number 100 of 169\n",
      "Currently on Epoch 62\n",
      "\tCurrently on batch number 100 of 169\n",
      "Currently on Epoch 63\n",
      "\tCurrently on batch number 100 of 169\n",
      "Currently on Epoch 64\n",
      "\tCurrently on batch number 100 of 169\n",
      "Currently on Epoch 65\n",
      "\tCurrently on batch number 100 of 169\n",
      "Currently on Epoch 66\n",
      "\tCurrently on batch number 100 of 169\n",
      "Currently on Epoch 67\n",
      "\tCurrently on batch number 100 of 169\n",
      "Currently on Epoch 68\n",
      "\tCurrently on batch number 100 of 169\n",
      "Currently on Epoch 69\n",
      "\tCurrently on batch number 100 of 169\n",
      "Currently on Epoch 70\n",
      "\tCurrently on batch number 100 of 169\n",
      "Currently on Epoch 71\n",
      "\tCurrently on batch number 100 of 169\n",
      "Currently on Epoch 72\n",
      "\tCurrently on batch number 100 of 169\n",
      "Currently on Epoch 73\n",
      "\tCurrently on batch number 100 of 169\n",
      "Currently on Epoch 74\n",
      "\tCurrently on batch number 100 of 169\n",
      "Currently on Epoch 75\n",
      "\tCurrently on batch number 100 of 169\n",
      "Currently on Epoch 76\n",
      "\tCurrently on batch number 100 of 169\n",
      "Currently on Epoch 77\n",
      "\tCurrently on batch number 100 of 169\n",
      "Currently on Epoch 78\n",
      "\tCurrently on batch number 100 of 169\n",
      "Currently on Epoch 79\n",
      "\tCurrently on batch number 100 of 169\n",
      "Currently on Epoch 80\n",
      "\tCurrently on batch number 100 of 169\n",
      "Currently on Epoch 81\n",
      "\tCurrently on batch number 100 of 169\n",
      "Currently on Epoch 82\n",
      "\tCurrently on batch number 100 of 169\n",
      "Currently on Epoch 83\n",
      "\tCurrently on batch number 100 of 169\n",
      "Currently on Epoch 84\n",
      "\tCurrently on batch number 100 of 169\n",
      "Currently on Epoch 85\n",
      "\tCurrently on batch number 100 of 169\n",
      "Currently on Epoch 86\n",
      "\tCurrently on batch number 100 of 169\n",
      "Currently on Epoch 87\n",
      "\tCurrently on batch number 100 of 169\n",
      "Currently on Epoch 88\n",
      "\tCurrently on batch number 100 of 169\n",
      "Currently on Epoch 89\n",
      "\tCurrently on batch number 100 of 169\n",
      "Currently on Epoch 90\n",
      "\tCurrently on batch number 100 of 169\n",
      "Currently on Epoch 91\n",
      "\tCurrently on batch number 100 of 169\n",
      "Currently on Epoch 92\n",
      "\tCurrently on batch number 100 of 169\n",
      "Currently on Epoch 93\n",
      "\tCurrently on batch number 100 of 169\n",
      "Currently on Epoch 94\n",
      "\tCurrently on batch number 100 of 169\n",
      "Currently on Epoch 95\n",
      "\tCurrently on batch number 100 of 169\n",
      "Currently on Epoch 96\n",
      "\tCurrently on batch number 100 of 169\n",
      "Currently on Epoch 97\n",
      "\tCurrently on batch number 100 of 169\n",
      "Currently on Epoch 98\n",
      "\tCurrently on batch number 100 of 169\n",
      "Currently on Epoch 99\n",
      "\tCurrently on batch number 100 of 169\n",
      "Currently on Epoch 100\n",
      "\tCurrently on batch number 100 of 169\n",
      "Currently on Epoch 101\n",
      "\tCurrently on batch number 100 of 169\n",
      "Currently on Epoch 102\n",
      "\tCurrently on batch number 100 of 169\n",
      "Currently on Epoch 103\n",
      "\tCurrently on batch number 100 of 169\n",
      "Currently on Epoch 104\n",
      "\tCurrently on batch number 100 of 169\n",
      "Currently on Epoch 105\n",
      "\tCurrently on batch number 100 of 169\n",
      "Currently on Epoch 106\n",
      "\tCurrently on batch number 100 of 169\n",
      "Currently on Epoch 107\n",
      "\tCurrently on batch number 100 of 169\n",
      "Currently on Epoch 108\n",
      "\tCurrently on batch number 100 of 169\n",
      "Currently on Epoch 109\n",
      "\tCurrently on batch number 100 of 169\n",
      "Currently on Epoch 110\n",
      "\tCurrently on batch number 100 of 169\n",
      "Currently on Epoch 111\n",
      "\tCurrently on batch number 100 of 169\n",
      "Currently on Epoch 112\n",
      "\tCurrently on batch number 100 of 169\n",
      "Currently on Epoch 113\n",
      "\tCurrently on batch number 100 of 169\n",
      "Currently on Epoch 114\n",
      "\tCurrently on batch number 100 of 169\n",
      "Currently on Epoch 115\n",
      "\tCurrently on batch number 100 of 169\n",
      "Currently on Epoch 116\n",
      "\tCurrently on batch number 100 of 169\n",
      "Currently on Epoch 117\n",
      "\tCurrently on batch number 100 of 169\n",
      "Currently on Epoch 118\n",
      "\tCurrently on batch number 100 of 169\n",
      "Currently on Epoch 119\n",
      "\tCurrently on batch number 100 of 169\n",
      "Currently on Epoch 120\n",
      "\tCurrently on batch number 100 of 169\n",
      "Currently on Epoch 121\n",
      "\tCurrently on batch number 100 of 169\n",
      "Currently on Epoch 122\n",
      "\tCurrently on batch number 100 of 169\n",
      "Currently on Epoch 123\n",
      "\tCurrently on batch number 100 of 169\n",
      "Currently on Epoch 124\n",
      "\tCurrently on batch number 100 of 169\n",
      "Currently on Epoch 125\n",
      "\tCurrently on batch number 100 of 169\n",
      "Currently on Epoch 126\n",
      "\tCurrently on batch number 100 of 169\n",
      "Currently on Epoch 127\n",
      "\tCurrently on batch number 100 of 169\n",
      "Currently on Epoch 128\n",
      "\tCurrently on batch number 100 of 169\n",
      "Currently on Epoch 129\n",
      "\tCurrently on batch number 100 of 169\n",
      "Currently on Epoch 130\n",
      "\tCurrently on batch number 100 of 169\n",
      "Currently on Epoch 131\n",
      "\tCurrently on batch number 100 of 169\n",
      "Currently on Epoch 132\n",
      "\tCurrently on batch number 100 of 169\n",
      "Currently on Epoch 133\n",
      "\tCurrently on batch number 100 of 169\n",
      "Currently on Epoch 134\n",
      "\tCurrently on batch number 100 of 169\n",
      "Currently on Epoch 135\n",
      "\tCurrently on batch number 100 of 169\n",
      "Currently on Epoch 136\n",
      "\tCurrently on batch number 100 of 169\n",
      "Currently on Epoch 137\n",
      "\tCurrently on batch number 100 of 169\n",
      "Currently on Epoch 138\n",
      "\tCurrently on batch number 100 of 169\n",
      "Currently on Epoch 139\n",
      "\tCurrently on batch number 100 of 169\n",
      "Currently on Epoch 140\n",
      "\tCurrently on batch number 100 of 169\n",
      "Currently on Epoch 141\n",
      "\tCurrently on batch number 100 of 169\n",
      "Currently on Epoch 142\n",
      "\tCurrently on batch number 100 of 169\n",
      "Currently on Epoch 143\n",
      "\tCurrently on batch number 100 of 169\n",
      "Currently on Epoch 144\n",
      "\tCurrently on batch number 100 of 169\n",
      "Currently on Epoch 145\n",
      "\tCurrently on batch number 100 of 169\n",
      "Currently on Epoch 146\n",
      "\tCurrently on batch number 100 of 169\n",
      "Currently on Epoch 147\n",
      "\tCurrently on batch number 100 of 169\n",
      "Currently on Epoch 148\n",
      "\tCurrently on batch number 100 of 169\n",
      "Currently on Epoch 149\n",
      "\tCurrently on batch number 100 of 169\n",
      "Currently on Epoch 150\n",
      "\tCurrently on batch number 100 of 169\n"
     ]
    }
   ],
   "source": [
    "generator, discriminator = GAN.layers  # Separa as camadas do modelo\n",
    "\n",
    "for epoch in range(epochs):\n",
    "    print(f\"Currently on Epoch {epoch+1}\")\n",
    "    i = 0\n",
    "    for X_batch in dataset:\n",
    "        i = i+1\n",
    "        if i%100 == 0:\n",
    "            print(f\"\\tCurrently on batch number {i} of {len(my_data)//batch_size}\")\n",
    "        noise = tf.random.normal(shape=[batch_size, codings_size])  # Gera ruído aleatório\n",
    "        gen_images = generator(noise)  # Cria imagens falsas\n",
    "        X_fake_vs_real = tf.concat([gen_images, tf.dtypes.cast(X_batch, tf.float32)], axis=0)  # Junta imagens reais e falsas\n",
    "        y1 = tf.constant([[0.]]*batch_size + [[1.]]*batch_size)  # 0 para falsas, 1 para reais\n",
    "        discriminator.trainable = True  # Permite o treinamento do discriminador\n",
    "        discriminator.train_on_batch(X_fake_vs_real, y1)  # Treina o discriminador\n",
    "\n",
    "        \n",
    "        # Train the generator\n",
    "        noise = tf.random.normal(shape=[batch_size, codings_size])  # Novo ruído\n",
    "        y2 = tf.constant([[1.]]*batch_size)  # Engana o discriminador fazendo-o pensar que tudo é real\n",
    "        discriminator.trainable = False  # Congela o discriminador para treinar apenas o gerador\n",
    "        GAN.train_on_batch(noise, y2)  # Treina a GAN"
   ]
  },
  {
   "cell_type": "code",
   "execution_count": 61,
   "metadata": {},
   "outputs": [],
   "source": [
    "noise = tf.random.normal(shape=[10, codings_size])"
   ]
  },
  {
   "cell_type": "code",
   "execution_count": 62,
   "metadata": {},
   "outputs": [
    {
     "data": {
      "text/plain": [
       "<matplotlib.image.AxesImage at 0x1c3b08b9c10>"
      ]
     },
     "execution_count": 62,
     "metadata": {},
     "output_type": "execute_result"
    },
    {
     "data": {
      "image/png": "[encoded data removed]",
      "text/plain": [
       "<Figure size 640x480 with 1 Axes>"
      ]
     },
     "metadata": {},
     "output_type": "display_data"
    }
   ],
   "source": [
    "plt.imshow(noise)"
   ]
  },
  {
   "cell_type": "code",
   "execution_count": 63,
   "metadata": {},
   "outputs": [],
   "source": [
    "images = generator(noise)"
   ]
  },
  {
   "cell_type": "code",
   "execution_count": 70,
   "metadata": {},
   "outputs": [
    {
     "data": {
      "image/png": "[encoded data removed]",
      "text/plain": [
       "<Figure size 2000x2000 with 10 Axes>"
      ]
     },
     "metadata": {},
     "output_type": "display_data"
    }
   ],
   "source": [
    "# Exibir as 10 imagens geradas\n",
    "plt.figure(figsize=(20,20))\n",
    "for i in range(10):\n",
    "    plt.subplot(1, 10, i+1)\n",
    "    plt.imshow(images[i], cmap='gray')\n",
    "    plt.axis('off')"
   ]
  }
 ],
 "metadata": {
  "kernelspec": {
   "display_name": ".venv",
   "language": "python",
   "name": "python3"
  },
  "language_info": {
   "codemirror_mode": {
    "name": "ipython",
    "version": 3
   },
   "file_extension": ".py",
   "mimetype": "text/x-python",
   "name": "python",
   "nbconvert_exporter": "python",
   "pygments_lexer": "ipython3",
   "version": "3.9.6"
  }
 },
 "nbformat": 4,
 "nbformat_minor": 2
}
